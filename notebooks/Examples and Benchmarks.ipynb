{
 "cells": [
  {
   "cell_type": "code",
   "execution_count": 5,
   "metadata": {},
   "outputs": [
    {
     "name": "stdout",
     "output_type": "stream",
     "text": [
      "The autoreload extension is already loaded. To reload it, use:\n",
      "  %reload_ext autoreload\n"
     ]
    }
   ],
   "source": [
    "%load_ext autoreload\n",
    "%autoreload 2"
   ]
  },
  {
   "cell_type": "code",
   "execution_count": 6,
   "metadata": {},
   "outputs": [],
   "source": [
    "import os\n",
    "import sys\n",
    "module_path = os.path.abspath(os.path.join('..'))\n",
    "if module_path not in sys.path:\n",
    "    sys.path.append(module_path)"
   ]
  },
  {
   "cell_type": "code",
   "execution_count": 7,
   "metadata": {},
   "outputs": [
    {
     "name": "stdout",
     "output_type": "stream",
     "text": [
      "env: TFHUB_CACHE_DIR=../tfhub\n"
     ]
    }
   ],
   "source": [
    "%env TFHUB_CACHE_DIR=../tfhub"
   ]
  },
  {
   "cell_type": "code",
   "execution_count": 20,
   "metadata": {},
   "outputs": [],
   "source": [
    "import re\n",
    "import numpy as np\n",
    "import pandas as pd\n",
    "\n",
    "from tqdm import tqdm\n",
    "from IPython.core.display import display, HTML\n",
    "\n",
    "from encoders.conveRT import conv_vec\n",
    "from src.attention_search import attention_search"
   ]
  },
  {
   "cell_type": "markdown",
   "metadata": {},
   "source": [
    "# Examples"
   ]
  },
  {
   "cell_type": "markdown",
   "metadata": {},
   "source": [
    "Create a small search index locally"
   ]
  },
  {
   "cell_type": "code",
   "execution_count": 27,
   "metadata": {},
   "outputs": [
    {
     "data": {
      "text/html": [
       "<div>\n",
       "<style scoped>\n",
       "    .dataframe tbody tr th:only-of-type {\n",
       "        vertical-align: middle;\n",
       "    }\n",
       "\n",
       "    .dataframe tbody tr th {\n",
       "        vertical-align: top;\n",
       "    }\n",
       "\n",
       "    .dataframe thead th {\n",
       "        text-align: right;\n",
       "    }\n",
       "</style>\n",
       "<table border=\"1\" class=\"dataframe\">\n",
       "  <thead>\n",
       "    <tr style=\"text-align: right;\">\n",
       "      <th></th>\n",
       "      <th>0</th>\n",
       "      <th>1</th>\n",
       "      <th>2</th>\n",
       "      <th>3</th>\n",
       "      <th>4</th>\n",
       "      <th>5</th>\n",
       "      <th>6</th>\n",
       "      <th>7</th>\n",
       "      <th>8</th>\n",
       "      <th>9</th>\n",
       "    </tr>\n",
       "  </thead>\n",
       "  <tbody>\n",
       "    <tr>\n",
       "      <th>0</th>\n",
       "      <td>22</td>\n",
       "      <td>Keith Booth</td>\n",
       "      <td>SF</td>\n",
       "      <td>6-6</td>\n",
       "      <td>226</td>\n",
       "      <td>October 9</td>\n",
       "      <td>1974</td>\n",
       "      <td>us</td>\n",
       "      <td>R</td>\n",
       "      <td>Maryland</td>\n",
       "    </tr>\n",
       "    <tr>\n",
       "      <th>1</th>\n",
       "      <td>1</td>\n",
       "      <td>Randy Brown</td>\n",
       "      <td>PG</td>\n",
       "      <td>6-2</td>\n",
       "      <td>190</td>\n",
       "      <td>May 22</td>\n",
       "      <td>1968</td>\n",
       "      <td>us</td>\n",
       "      <td>6</td>\n",
       "      <td>Houston, New Mexico State</td>\n",
       "    </tr>\n",
       "    <tr>\n",
       "      <th>2</th>\n",
       "      <td>30</td>\n",
       "      <td>Jud Buechler</td>\n",
       "      <td>SF</td>\n",
       "      <td>6-6</td>\n",
       "      <td>220</td>\n",
       "      <td>June 19</td>\n",
       "      <td>1968</td>\n",
       "      <td>us</td>\n",
       "      <td>7</td>\n",
       "      <td>Arizona</td>\n",
       "    </tr>\n",
       "    <tr>\n",
       "      <th>3</th>\n",
       "      <td>24</td>\n",
       "      <td>Scott Burrell</td>\n",
       "      <td>SF</td>\n",
       "      <td>6-7</td>\n",
       "      <td>218</td>\n",
       "      <td>January 12</td>\n",
       "      <td>1971</td>\n",
       "      <td>us</td>\n",
       "      <td>4</td>\n",
       "      <td>UConn</td>\n",
       "    </tr>\n",
       "    <tr>\n",
       "      <th>4</th>\n",
       "      <td>35</td>\n",
       "      <td>Jason Caffey</td>\n",
       "      <td>PF</td>\n",
       "      <td>6-8</td>\n",
       "      <td>255</td>\n",
       "      <td>June 12</td>\n",
       "      <td>1973</td>\n",
       "      <td>us</td>\n",
       "      <td>2</td>\n",
       "      <td>Alabama</td>\n",
       "    </tr>\n",
       "    <tr>\n",
       "      <th>5</th>\n",
       "      <td>9</td>\n",
       "      <td>Ron Harper</td>\n",
       "      <td>PG</td>\n",
       "      <td>6-6</td>\n",
       "      <td>185</td>\n",
       "      <td>January 20</td>\n",
       "      <td>1964</td>\n",
       "      <td>us</td>\n",
       "      <td>11</td>\n",
       "      <td>Miami University</td>\n",
       "    </tr>\n",
       "    <tr>\n",
       "      <th>6</th>\n",
       "      <td>23</td>\n",
       "      <td>Michael Jordan</td>\n",
       "      <td>SG</td>\n",
       "      <td>6-6</td>\n",
       "      <td>195</td>\n",
       "      <td>February 17</td>\n",
       "      <td>1963</td>\n",
       "      <td>us</td>\n",
       "      <td>12</td>\n",
       "      <td>UNC</td>\n",
       "    </tr>\n",
       "    <tr>\n",
       "      <th>7</th>\n",
       "      <td>25</td>\n",
       "      <td>Steve Kerr</td>\n",
       "      <td>PG</td>\n",
       "      <td>6-3</td>\n",
       "      <td>175</td>\n",
       "      <td>September 27</td>\n",
       "      <td>1965</td>\n",
       "      <td>lb</td>\n",
       "      <td>9</td>\n",
       "      <td>Arizona</td>\n",
       "    </tr>\n",
       "    <tr>\n",
       "      <th>8</th>\n",
       "      <td>53</td>\n",
       "      <td>Joe Kleine</td>\n",
       "      <td>C</td>\n",
       "      <td>6-11</td>\n",
       "      <td>255</td>\n",
       "      <td>January 4</td>\n",
       "      <td>1962</td>\n",
       "      <td>us</td>\n",
       "      <td>12</td>\n",
       "      <td>Notre Dame, Arkansas</td>\n",
       "    </tr>\n",
       "    <tr>\n",
       "      <th>9</th>\n",
       "      <td>7</td>\n",
       "      <td>Toni Kukoč</td>\n",
       "      <td>SF</td>\n",
       "      <td>6-10</td>\n",
       "      <td>192</td>\n",
       "      <td>September 18</td>\n",
       "      <td>1968</td>\n",
       "      <td>hr</td>\n",
       "      <td>4,</td>\n",
       "      <td>None</td>\n",
       "    </tr>\n",
       "    <tr>\n",
       "      <th>10</th>\n",
       "      <td>5</td>\n",
       "      <td>Rusty LaRue</td>\n",
       "      <td>PG</td>\n",
       "      <td>6-2</td>\n",
       "      <td>210</td>\n",
       "      <td>December 10</td>\n",
       "      <td>1973</td>\n",
       "      <td>us</td>\n",
       "      <td>R</td>\n",
       "      <td>Wake Forest</td>\n",
       "    </tr>\n",
       "    <tr>\n",
       "      <th>11</th>\n",
       "      <td>13</td>\n",
       "      <td>Luc Longley</td>\n",
       "      <td>C</td>\n",
       "      <td>7-2</td>\n",
       "      <td>265</td>\n",
       "      <td>January 19</td>\n",
       "      <td>1969</td>\n",
       "      <td>au</td>\n",
       "      <td>6</td>\n",
       "      <td>New Mexico</td>\n",
       "    </tr>\n",
       "    <tr>\n",
       "      <th>12</th>\n",
       "      <td>33</td>\n",
       "      <td>Scottie Pippen</td>\n",
       "      <td>SF</td>\n",
       "      <td>6-8</td>\n",
       "      <td>210</td>\n",
       "      <td>September 25</td>\n",
       "      <td>1965</td>\n",
       "      <td>us</td>\n",
       "      <td>10</td>\n",
       "      <td>University of Central Arkansas</td>\n",
       "    </tr>\n",
       "    <tr>\n",
       "      <th>13</th>\n",
       "      <td>91</td>\n",
       "      <td>Dennis Rodman</td>\n",
       "      <td>PF</td>\n",
       "      <td>6-7</td>\n",
       "      <td>210</td>\n",
       "      <td>May 13</td>\n",
       "      <td>1961</td>\n",
       "      <td>us</td>\n",
       "      <td>11</td>\n",
       "      <td>Southeastern Oklahoma State University</td>\n",
       "    </tr>\n",
       "    <tr>\n",
       "      <th>14</th>\n",
       "      <td>8</td>\n",
       "      <td>Dickey Simpkins</td>\n",
       "      <td>PF</td>\n",
       "      <td>6-9</td>\n",
       "      <td>248</td>\n",
       "      <td>April 6</td>\n",
       "      <td>1972</td>\n",
       "      <td>us</td>\n",
       "      <td>3</td>\n",
       "      <td>Providence</td>\n",
       "    </tr>\n",
       "    <tr>\n",
       "      <th>15</th>\n",
       "      <td>42</td>\n",
       "      <td>David Vaughn</td>\n",
       "      <td>PF</td>\n",
       "      <td>6-9</td>\n",
       "      <td>240</td>\n",
       "      <td>March 23</td>\n",
       "      <td>1973</td>\n",
       "      <td>us</td>\n",
       "      <td>2</td>\n",
       "      <td>Memphis</td>\n",
       "    </tr>\n",
       "    <tr>\n",
       "      <th>16</th>\n",
       "      <td>34</td>\n",
       "      <td>Bill Wennington</td>\n",
       "      <td>C</td>\n",
       "      <td>7-0</td>\n",
       "      <td>245</td>\n",
       "      <td>April 26</td>\n",
       "      <td>1963</td>\n",
       "      <td>ca</td>\n",
       "      <td>10</td>\n",
       "      <td>St. John's</td>\n",
       "    </tr>\n",
       "  </tbody>\n",
       "</table>\n",
       "</div>"
      ],
      "text/plain": [
       "     0                1   2     3    4             5     6   7   8  \\\n",
       "0   22      Keith Booth  SF   6-6  226     October 9  1974  us   R   \n",
       "1    1      Randy Brown  PG   6-2  190        May 22  1968  us   6   \n",
       "2   30     Jud Buechler  SF   6-6  220       June 19  1968  us   7   \n",
       "3   24    Scott Burrell  SF   6-7  218    January 12  1971  us   4   \n",
       "4   35     Jason Caffey  PF   6-8  255       June 12  1973  us   2   \n",
       "5    9       Ron Harper  PG   6-6  185    January 20  1964  us  11   \n",
       "6   23   Michael Jordan  SG   6-6  195   February 17  1963  us  12   \n",
       "7   25       Steve Kerr  PG   6-3  175  September 27  1965  lb   9   \n",
       "8   53       Joe Kleine   C  6-11  255     January 4  1962  us  12   \n",
       "9    7       Toni Kukoč  SF  6-10  192  September 18  1968  hr  4,   \n",
       "10   5      Rusty LaRue  PG   6-2  210   December 10  1973  us   R   \n",
       "11  13      Luc Longley   C   7-2  265    January 19  1969  au   6   \n",
       "12  33   Scottie Pippen  SF   6-8  210  September 25  1965  us  10   \n",
       "13  91    Dennis Rodman  PF   6-7  210        May 13  1961  us  11   \n",
       "14   8  Dickey Simpkins  PF   6-9  248       April 6  1972  us   3   \n",
       "15  42     David Vaughn  PF   6-9  240      March 23  1973  us   2   \n",
       "16  34  Bill Wennington   C   7-0  245      April 26  1963  ca  10   \n",
       "\n",
       "                                         9  \n",
       "0                                 Maryland  \n",
       "1                Houston, New Mexico State  \n",
       "2                                  Arizona  \n",
       "3                                    UConn  \n",
       "4                                  Alabama  \n",
       "5                         Miami University  \n",
       "6                                      UNC  \n",
       "7                                  Arizona  \n",
       "8                     Notre Dame, Arkansas  \n",
       "9                                     None  \n",
       "10                             Wake Forest  \n",
       "11                              New Mexico  \n",
       "12          University of Central Arkansas  \n",
       "13  Southeastern Oklahoma State University  \n",
       "14                              Providence  \n",
       "15                                 Memphis  \n",
       "16                              St. John's  "
      ]
     },
     "execution_count": 27,
     "metadata": {},
     "output_type": "execute_result"
    }
   ],
   "source": [
    "roster98 = [\n",
    "    [\"22\",\"Keith Booth\",\"SF\",\"6-6\",\"226\",\"October 9\",\"1974\",\"us\",\"R\",\"Maryland\"],\n",
    "    [\"1\",\"Randy Brown\",\"PG\",\"6-2\",\"190\",\"May 22\",\"1968\",\"us\",\"6\",\"Houston, New Mexico State\"],\n",
    "    [\"30\",\"Jud Buechler\",\"SF\",\"6-6\",\"220\",\"June 19\",\"1968\",\"us\",\"7\",\"Arizona\"],\n",
    "    [\"24\",\"Scott Burrell\",\"SF\",\"6-7\",\"218\",\"January 12\",\"1971\",\"us\",\"4\",\"UConn\"],\n",
    "    [\"35\",\"Jason Caffey\",\"PF\",\"6-8\",\"255\",\"June 12\",\"1973\",\"us\",\"2\",\"Alabama\"],\n",
    "    [\"9\",\"Ron Harper\",\"PG\",\"6-6\",\"185\",\"January 20\",\"1964\",\"us\",\"11\",\"Miami University\"],\n",
    "    [\"23\",\"Michael Jordan\",\"SG\",\"6-6\",\"195\",\"February 17\",\"1963\",\"us\",\"12\",\"UNC\"],\n",
    "    [\"25\",\"Steve Kerr\",\"PG\",\"6-3\",\"175\",\"September 27\",\"1965\",\"lb\",\"9\",\"Arizona\"],\n",
    "    [\"53\",\"Joe Kleine\",\"C\",\"6-11\",\"255\",\"January 4\",\"1962\",\"us\",\"12\",\"Notre Dame, Arkansas\"],\n",
    "    [\"7\",\"Toni Kukoč\",\"SF\",\"6-10\",\"192\",\"September 18\",\"1968\",\"hr\",\"4,\"],\n",
    "    [\"5\",\"Rusty LaRue\",\"PG\",\"6-2\",\"210\",\"December 10\",\"1973\",\"us\",\"R\",\"Wake Forest\"],\n",
    "    [\"13\",\"Luc Longley\",\"C\",\"7-2\",\"265\",\"January 19\",\"1969\",\"au\",\"6\",\"New Mexico\"],\n",
    "    [\"33\",\"Scottie Pippen\",\"SF\",\"6-8\",\"210\",\"September 25\",\"1965\",\"us\",\"10\",\"University of Central Arkansas\"],\n",
    "    [\"91\",\"Dennis Rodman\",\"PF\",\"6-7\",\"210\",\"May 13\",\"1961\",\"us\",\"11\",\"Southeastern Oklahoma State University\"],\n",
    "    [\"8\",\"Dickey Simpkins\",\"PF\",\"6-9\",\"248\",\"April 6\",\"1972\",\"us\",\"3\",\"Providence\"],\n",
    "    [\"42\",\"David Vaughn\",\"PF\",\"6-9\",\"240\",\"March 23\",\"1973\", \"us\",\"2\",\"Memphis\"],\n",
    "    [\"34\",\"Bill Wennington\",\"C\",\"7-0\",\"245\",\"April 26\",\"1963\",\"ca\",\"10\",\"St. John's\"]\n",
    "]\n",
    "\n",
    "bulls_df = pd.DataFrame(roster98)\n",
    "bulls_df"
   ]
  },
  {
   "cell_type": "markdown",
   "metadata": {},
   "source": [
    "BYOE (bring your own embeddings). For this demo, we'll apply [ConveRT](https://github.com/PolyAI-LDN/polyai-models#convert) from PolyAI to create a sequence of embeddings from our search index"
   ]
  },
  {
   "cell_type": "code",
   "execution_count": 60,
   "metadata": {},
   "outputs": [
    {
     "name": "stderr",
     "output_type": "stream",
     "text": [
      "100%|██████████| 17/17 [00:00<00:00, 18.96it/s]\n"
     ]
    }
   ],
   "source": [
    "roster_list = bulls_df.to_numpy().tolist()\n",
    "roster_enc = np.concatenate([conv_vec(f\"{player}\") for player in tqdm(roster_list)])"
   ]
  },
  {
   "cell_type": "markdown",
   "metadata": {},
   "source": [
    "Next, we can encode a query to perform a simple search:"
   ]
  },
  {
   "cell_type": "code",
   "execution_count": 220,
   "metadata": {
    "scrolled": true
   },
   "outputs": [
    {
     "name": "stdout",
     "output_type": "stream",
     "text": [
      "Searched 17 records in 0.0002 seconds\n"
     ]
    },
    {
     "data": {
      "text/html": [
       "<div>\n",
       "<style scoped>\n",
       "    .dataframe tbody tr th:only-of-type {\n",
       "        vertical-align: middle;\n",
       "    }\n",
       "\n",
       "    .dataframe tbody tr th {\n",
       "        vertical-align: top;\n",
       "    }\n",
       "\n",
       "    .dataframe thead th {\n",
       "        text-align: right;\n",
       "    }\n",
       "</style>\n",
       "<table border=\"1\" class=\"dataframe\">\n",
       "  <thead>\n",
       "    <tr style=\"text-align: right;\">\n",
       "      <th></th>\n",
       "      <th>0</th>\n",
       "      <th>1</th>\n",
       "      <th>2</th>\n",
       "      <th>3</th>\n",
       "      <th>4</th>\n",
       "      <th>5</th>\n",
       "      <th>6</th>\n",
       "      <th>7</th>\n",
       "      <th>8</th>\n",
       "      <th>9</th>\n",
       "    </tr>\n",
       "  </thead>\n",
       "  <tbody>\n",
       "    <tr>\n",
       "      <th>0</th>\n",
       "      <td>1</td>\n",
       "      <td>Randy Brown</td>\n",
       "      <td>PG</td>\n",
       "      <td>6-2</td>\n",
       "      <td>190</td>\n",
       "      <td>May 22</td>\n",
       "      <td>1968</td>\n",
       "      <td>us</td>\n",
       "      <td>6</td>\n",
       "      <td>Houston, New Mexico State</td>\n",
       "    </tr>\n",
       "    <tr>\n",
       "      <th>1</th>\n",
       "      <td>13</td>\n",
       "      <td>Luc Longley</td>\n",
       "      <td>C</td>\n",
       "      <td>7-2</td>\n",
       "      <td>265</td>\n",
       "      <td>January 19</td>\n",
       "      <td>1969</td>\n",
       "      <td>au</td>\n",
       "      <td>6</td>\n",
       "      <td>New Mexico</td>\n",
       "    </tr>\n",
       "    <tr>\n",
       "      <th>2</th>\n",
       "      <td>91</td>\n",
       "      <td>Dennis Rodman</td>\n",
       "      <td>PF</td>\n",
       "      <td>6-7</td>\n",
       "      <td>210</td>\n",
       "      <td>May 13</td>\n",
       "      <td>1961</td>\n",
       "      <td>us</td>\n",
       "      <td>11</td>\n",
       "      <td>Southeastern Oklahoma State University</td>\n",
       "    </tr>\n",
       "  </tbody>\n",
       "</table>\n",
       "</div>"
      ],
      "text/plain": [
       "    0              1   2    3    4           5     6   7   8  \\\n",
       "0   1    Randy Brown  PG  6-2  190      May 22  1968  us   6   \n",
       "1  13    Luc Longley   C  7-2  265  January 19  1969  au   6   \n",
       "2  91  Dennis Rodman  PF  6-7  210      May 13  1961  us  11   \n",
       "\n",
       "                                        9  \n",
       "0               Houston, New Mexico State  \n",
       "1                              New Mexico  \n",
       "2  Southeastern Oklahoma State University  "
      ]
     },
     "execution_count": 220,
     "metadata": {},
     "output_type": "execute_result"
    }
   ],
   "source": [
    "query = conv_vec(\"mexico us\")\n",
    "search_index = roster_enc\n",
    "search_values = roster98\n",
    "\n",
    "results = attention_search(query, search_index, search_values, verbose=True)\n",
    "pd.DataFrame(results)"
   ]
  },
  {
   "cell_type": "markdown",
   "metadata": {},
   "source": [
    "Let's try searching a larger dataset like [Amazon's Fine Food Reviews](https://www.kaggle.com/snap/amazon-fine-food-reviews?select=Reviews.csv)"
   ]
  },
  {
   "cell_type": "code",
   "execution_count": 67,
   "metadata": {},
   "outputs": [
    {
     "data": {
      "text/plain": [
       "(568454,)"
      ]
     },
     "execution_count": 67,
     "metadata": {},
     "output_type": "execute_result"
    }
   ],
   "source": [
    "amazon_food_reviews = pd.read_csv(\"data/Reviews.csv\")\n",
    "text_only = amazon_food_reviews[\"Text\"]\n",
    "text_only.shape"
   ]
  },
  {
   "cell_type": "markdown",
   "metadata": {},
   "source": [
    "Just like on the baking shows, I've already encoded the first 100,000 records "
   ]
  },
  {
   "cell_type": "code",
   "execution_count": 10,
   "metadata": {},
   "outputs": [],
   "source": [
    "# uncomment this block re-encode (this can be instensive on a CPU)\n",
    "# res = []\n",
    "# for item in tqdm(text_only[:100000]):\n",
    "#     res.append(conv_vec(item))\n",
    "# amazon_fine_food_vec = np.concatenate(res)\n",
    "# np.save(\"amazon_fine_food\", amazon_fine_food_vec)"
   ]
  },
  {
   "cell_type": "code",
   "execution_count": 65,
   "metadata": {},
   "outputs": [
    {
     "data": {
      "text/plain": [
       "(100000, 1024)"
      ]
     },
     "execution_count": 65,
     "metadata": {},
     "output_type": "execute_result"
    }
   ],
   "source": [
    "amazon_fine_food_vec = np.load(\"data/amazon_fine_food.npy\")\n",
    "amazon_fine_food_vec.shape"
   ]
  },
  {
   "cell_type": "code",
   "execution_count": 292,
   "metadata": {
    "scrolled": false
   },
   "outputs": [
    {
     "name": "stdout",
     "output_type": "stream",
     "text": [
      "Searched 100000 records in 0.0275 seconds\n"
     ]
    }
   ],
   "source": [
    "results = attention_search(\n",
    "    conv_vec(\"ramen noodles\"), \n",
    "    amazon_fine_food_vec, \n",
    "    text_only.to_list()[:100000], # encoded only the first 100,000\n",
    "    n_results=5,\n",
    "    verbose=True\n",
    ")"
   ]
  },
  {
   "cell_type": "code",
   "execution_count": 293,
   "metadata": {},
   "outputs": [
    {
     "data": {
      "text/html": [
       "<p style='text-align:center;'>============================================================</p> Review:<br />I've eaten <mark><b>{ ramen }</b></mark> for a long time (30+ years) and have eaten numerous varieties and the Shin <mark><b>{ ramen }</b></mark> is probably my #1 tasting. The reasons are as follows:<br />* Best flavor broth - it's spicy (but adjustable), leaves a good aftertaste (yes, even when you burp), tint of mushroom flavor coupled with a good balance of red pepper, onions and spices.<br />* Noodles have good texture - depending how you cook them of course but with bad ones, no matter how you cook them they come out soggy/soft. These come out chewy if you want or softer if you overcook them.<br />* It's not oily - I've noticed with some <mark><b>{ noodles }</b></mark>, you can see a ring of oil around the pot after you cook the <mark><b>{ noodles }</b></mark>. So with these I sometimes had to boil an extra pot of water and then transfer the cooked <mark><b>{ noodles }</b></mark> to the fresh pot of water to get rid of the oil. Not with Shin Ramen.<br />* Economical - for less than a dollar a pack, they beat any dollar menu item<br />* Great for any weather - particularly winter to keep you warm. In the summer, they help to break out a sweat and opens your pores<br />* Can be a hearty meal - you can add all types of things to this <mark><b>{ ramen }</b></mark> as others have posted. An egg is recommended but so are vegetables and meat.<br /><br />Tips:<br /><br />Amount of water - add about 2 mug size cup fulls of water. If not sure, add a little less. You can always add more after it's fully cooked. Adding cold water at the end cools down the boiling hot soup so it's easier to eat.<br /><br />How to cook - wait til the water boils. As soon as it does, drop in everything: the soup base, <mark><b>{ noodles }</b></mark>, dried vegie packet. If you want to add vegies, let it cook for about a minute before adding e.g. mushrooms, bean sprouts, tomatoes, green onions. Don't put more than a quarter couple of any vegies or meat cuz you'll kill the flavor. For eggs, if you like them well cooked, add them at the beginning. You can add at the end of cooking too but this is a bit too raw for my taste<br /><br />Cooking time - boil the <mark><b>{ noodles }</b></mark> 2 - 4 minutes. This depends on how hard or soft you like your <mark><b>{ noodles }</b></mark>. Just pull a strand out and taste it every 30 seconds after the first minute. There's no right or wrong here.<br /><br />Soup base - add all of it. Don't worry about it being too spicy. Per above you can always water it down later. The soup will be plenty hot. Remember it just finished boiling and it's difficult to put something in your mouth when it was just boiling.<br /><br />How to serve - there are 3 ways I'd recommend<br />1) The traditional Korean way - folks like to eat straight from the pot. There's actually an 'art' to this. After removing it from the stove, place the pot on something that wont burn. Grab the lid of the pot, a spoon (yes a spoon) and chop sticks (fork if you can't wield them).<br /><br />2) In a bowl. Don't use a plastic one unless it can stand the heat. I don't like to use plastic period for health reasons but up to you. Remove some of the excess soup from the pot first and then pour everything directly into the bowl. Grab a spoon and chopsticks/fork and place the bowl down and go to work.<br /><br />3) combination of 1 and 2 above. Place the pot of <mark><b>{ ramen }</b></mark> and get a bowl along with a spoon and chopsticks/fork.<br /><br />How to eat:<br />First, forget what your parents have told you on slurping. To eat <mark><b>{ ramen }</b></mark>, you must slurp. Why? Because 1) if you don't you'll burn your lips because no slurping means the <mark><b>{ noodles }</b></mark> must pass through your lips slower and enclosed more around the <mark><b>{ noodles }</b></mark>. 2) because your lips are more enclosed, most of the soup around the <mark><b>{ noodles }</b></mark> are sucked away from <mark><b>{ noodles }</b></mark>, leaving you with less flavorful <mark><b>{ noodles }</b></mark>. So forget the decorum. Eat it asian style and slurp away.<br /><br />2nd, I'd recommend the Korean way (#1 above). You grab the pot lid then take about 2 mouthful amounts of noodle and dump it into the lid. You should be holding the lid with your left hand (switch if you're right handed) and quickly grab a large spoon and add several spoonfuls of soup broth into the lid. You're doing 3 things here 1) you're saturating the <mark><b>{ noodles }</b></mark> with the flavorful broth. 2) by adding the <mark><b>{ noodles }</b></mark> to the lid, you're cooling it down for consumption while keeping the rest of the <mark><b>{ noodles }</b></mark> hot. 3) When you eat straight from the lid, you first eat the <mark><b>{ noodles }</b></mark> and immediately follow up with a slurp from the lid itself to drink the soup base. To do this, you put the lid close to your mouth and then push the <mark><b>{ noodles }</b></mark> in with your utensil, drink the soup right after or together as you push the <mark><b>{ noodles }</b></mark> in. I know this sounds crude but the flavor is maximized this way. You can add any vegetables or meat to eat bite this way too.<br /><br />If you want to eat using method #2, well, it needs no explanation, just make sure you slurp and drink the broth as you eat the <mark><b>{ noodles }</b></mark>.<br /><br />For method #3, you're basically substituting the bowl for the lid. Works as well but assuming your lid is metal, it keeps the <mark><b>{ noodles }</b></mark> hotter. Also, people tend to put more <mark><b>{ noodles }</b></mark> into a bowl then a lid and this ends up cooling the noodle down too much. It's also slower cuz you dont hold the bowl in your hand where as with the lid, since you're holding it, you grab <mark><b>{ noodles }</b></mark>, place them briefly on the lid then straight to your mouth. It's cooler too ;>)<br /><br />Third, some people like to make this a heartier meal by adding rice. I usually don't add the rice to the pot until I'm half-way through because it's too hot and because the meal loses its flavor and it's too heavy. However, by adding rice directly to the pot full of <mark><b>{ ramen }</b></mark>, you have more of a hearty meal.<br /><br />Now, enjoy!"
      ],
      "text/plain": [
       "<IPython.core.display.HTML object>"
      ]
     },
     "metadata": {},
     "output_type": "display_data"
    },
    {
     "data": {
      "text/html": [
       "<p style='text-align:center;'>============================================================</p> You can find these in your local grocery stores for a price of about less than a quarter each, so this is a bit of a rip-off.<br /><br />I saw the other review with the person using a microwave(?). I don't use a microwave, however I suspect he may be talking about about a different instant <mark><b>{ ramen }</b></mark>.<br /><br />I DO NOT RECOMMEND THIS TO ANYONE ON A DIET. If you just want a snack, then this is the perfect product for you. Its cheap, filling, and tasty, but it has virtually no nutritional and can be bad(and slightly fattening) in excess. If you like, you can do an experiment on what happens in your stomach until you fully excrete it: place <mark><b>{ ramen }</b></mark> in large container, add two cups of water, and wait a few months to see what happens. Again: IT'S JUST A SNACK OR LIGHT MEAL(LIKE BRUNCH). ON IT'S OWN, IT HAS VIRTUALLY NO NUTRITIONAL VALUE AND CAN BE UNHEALTHY IN EXCESS.<br /><br />As an Asian, I grew up with this product simply because of cultural values(it says <mark><b>{ ramen }</b></mark>,so in my family it's Asian); so I had a LONG time to develop a recipe.<br /><br />To attain my level of <mark><b>{ ramen }</b></mark>, which my baby sister still adores, I stretch the time to 13 minutes.<br /><br />How I make it:<br /><br />1. Put <mark><b>{ ramen }</b></mark> in regular pot and add two and 1/8 cups of water, or more or less if desired.<br />2. Put to boil on the highest setting possible for ten minutes, or less time if you are unwilling to wait long, stirring constantly. When <mark><b>{ ramen }</b></mark> reaches boiling point, add soup packet. Stir with a wooden spoon and insulated long fork(or spaghetti fork)or chopsticks to avoid burning. Boil for a bit more, if desired. The more you boil, the softer and fuller the <mark><b>{ noodles }</b></mark>. Turn off heat immediately and let cool. Leave as is or add desired ingredients WHILE <mark><b>{ ramen }</b></mark> is cooking. If water gets too low, add water.<br /><br />Have you ever heard of egg drop soup? With <mark><b>{ ramen }</b></mark>, you can make it easily:<br /><br />OPTIONAL: To get more \"traditional\": add green onions(1 or 2 chopped), soy sauce(1 tbs), ginger(grated, 1/2 tsp), mushrooms(sliced, 1/2 cup), sesame oil(1 tsp), white pepper(1/4 tsp or 1/2 tsp of sugar to substitute), and cornstarch(1 tbs dissolved with 1/2 cup of water set aside previously from the 2 1/8 cups).Ingredients must be added before eggs, so you can keep heat slightly longer but remember to stir entire time to avoid <mark><b>{ noodles }</b></mark> sticking to pot. Add more water, if necessary.<br /><br />3. Immediately after removing heat, add beated or non beated eggs(3) through a fork(or 3 to 4 chopsticks), while stirring the soup. I pick up some parts of the egg with one hand through the utensil and stir with other, though I usually need help stirring at the end. Stir quickly for one minute to get \"shreds\" or slowly until eggs \"form\" to get \"ribbons\"(only on one direction: clockwise).<br />Note: beaten eggs must be beaten VERY lightly so NO BUBBLES FORM<br />The end result is VERY tasty.<br /><br />There are many variations of this soup. My particular version without egg or veggies feeds 1 or 2 people or, if your getting fancy with the veggies or eggs, 2-3 people, and if you got fancy with the egg and veggies, then 3-4 people. If you add even more things, it feeds 5-more people.<br /><br />Be creative, though. Add whatever you like. My dad, who was part Japanese and part Chinese and part Filipino added squid sauce(it did taste good) and white jasmine rice(after boiling) and my Hispanic(slightly Italian, but not culturally) mother added chile(hot sauce) and lemon. My aunt, who looked more and acted more Italian than Mexican made it into Minestra Maritata or Italian Wedding Soup. So, base a recipe into your <mark><b>{ ramen }</b></mark>, or just add things to meet your cravings. All in all, it's a flexible, hot soup good for a sick-day or just a snack."
      ],
      "text/plain": [
       "<IPython.core.display.HTML object>"
      ]
     },
     "metadata": {},
     "output_type": "display_data"
    },
    {
     "data": {
      "text/html": [
       "<p style='text-align:center;'>============================================================</p> I've tried to write this review three times now, and every time I get a power blip or something happens to the browser and I lose it.  One more time.<br /><br />I made this carefully, and it is not tasty.  It has a big packet of spices that has a lot of whey, onion, and cheese and spices like black pepper are lower than an ingredient that is listed as \"not more than 2%.<br /><br />I've eaten tasty mac and cheese, and I've even eaten decent hamburger helper, like <a href=\"http://www.amazon.com/gp/product/B001EQ59EQ\">Hamburger Helper, Cheesy Nacho, 7.9-Ounce Boxes (Pack of 6)</a>.  That stuff is cheaper and tastes better.<br /><br />This stuff is easy to make.  You brown one pound of beef (I weighed it to be sure I was following directions) and then drain it (pouring out the tasty juices, I won't do that again), then add the misnamed seasoning packet and the pasta, along with two cups of water.<br /><br />Bring it to a boil, reduce heat, cover, and cook for 11-13 minutes.<br /><br />Then remove from the heat and mix in the velveeta packet.<br /><br />They suggest that you add lettuce?  Or chopped tomatoes, so I added Ro-Tel to part of it - the other part I kept pristine so that I could taste it as made.  I used hot Ro-Tel, and, other than the flavor of the Ro-Tel it was bland.  I have to think that the pasta is sort of bland and the spicing in the packet is lacking.  It could have some more onion flavor, or more than 0.5% garlic or something.<br /><br />The value in this is what I believe to be parboiled pasta that can be cooked in this fashion.<br /><br />The net weight of this stuff is 12.8 ounces - with a pound of beef, it makes 5 one cup servings.  My wife guesses that it serves three adults, or six-eight toddlers (if you were making lunch for a day care, say).<br /><br />Now, this is my suggestion:<br /><br />Suppose you buy a piece of velveeta in the store, some cream, some beef, and a little garlic powder, some onion powder, and some pasta.<br /><br />Cook a quarter pound of pasta in one pan, boiling and draining normally, and then brown a pound or two of beef with a bunch of onion and garlic powder, to taste.  In a third pan (or in the one you boiled the pasta in), grate or cube about a pound of Velveeta and heat it gently with a 2 tbsp of butter, stirring frequently until melted, then add about 1/4 to 1/2 cup cream a little at a time while stirring. Add a little white pepper and 1/8 tsp nutmeg, if you like it. Or use sour cream instead of whole cream, or put a little beef broth into the beef after it has browned.<br /><br />Now combine the cheese sauce, the pasta (use more or less to taste, the beef (please don't drain it unless you are on a low fat diet, and then do so carefully - if you have one of those old fat brushes, use that, try to save the juices).  Then add a whole can of Ro-Tel, to your family's taste, hot, mild, lime-chili, whatever.  Taste it - and if it is bland, fix it.<br /><br />Dust the top with paprika before serving it.<br /><br />This dish will taste good, and it won't take you much longer to make it than it would to start with this mix.  And if it is bland, you have only yourself to blame.  You can put more or less salt, pepper, herbs, and whatever - you don't need to use a mix to make a cheese/macaroni/beef dish.  This stuff really isn't that hard.<br /><br />Now, there is nothing wrong with Velveeta.  It melts nicely, it makes a great cheese sauce.  It usually has some flavor.  And there is nothing wrong with this stuff except that it is just tasteless, and almost anyone can do better.  Seriously, YOU can do better than this bland product.  If you like Velveeta, use it. If you don't like Velveeta, well, making it yourself allows you to make your cheese sauce from a different type of cheese.  Mexican melting cheese is good.  Heck, Sargento six cheese is great.<br /><br />If you don't want to do it yourself, save money and buy Hamburger Helper.<br /><br />I can't rate this less than 3 stars, far as I can tell, it is wholesome and it doesn't actively taste bad. It doesn't actively taste of much at all.  So it gets three stars, and a suggestion that you can do so much better by doing it yourself that you should try.<br /><br />If I had some of this stuff I had to use, I'd:<br /><br />Add a half tsp of white pepper, a half tsp of paprika, garlic powder to taste and onion powder to taste.  I might consider a knorr garlic cube.  Or Chipotle.  I would always add the Ro-Tel, this is the biggest fix you can make to this stuff. Paprika to dust the top before serving.  And, well, beef broth instead of water - that \"seasoning\" is really, really bland. A dollop of sour cream when you put the cheese sauce in, and a tablespoon of butter.<br /><br />Because as shipped, it is horribly bland."
      ],
      "text/plain": [
       "<IPython.core.display.HTML object>"
      ]
     },
     "metadata": {},
     "output_type": "display_data"
    }
   ],
   "source": [
    "for i, r in enumerate(results):\n",
    "    if not re.findall(r\"\\*{2,}|-{2,}\", r): # ignore messy records  \n",
    "        r = re.sub(r\"(ramen|noodles)\", r\"<mark><b>{ \\1 }</b></mark>\", r)\n",
    "        display(HTML(f\"{'---'*50} {r}\"))"
   ]
  },
  {
   "cell_type": "markdown",
   "metadata": {},
   "source": [
    "# Benchmarking"
   ]
  },
  {
   "cell_type": "code",
   "execution_count": 77,
   "metadata": {},
   "outputs": [],
   "source": [
    "# TODO: https://github.com/erikbern/ann-benchmarks"
   ]
  },
  {
   "cell_type": "code",
   "execution_count": null,
   "metadata": {},
   "outputs": [],
   "source": []
  }
 ],
 "metadata": {
  "kernelspec": {
   "display_name": "Python 3",
   "language": "python",
   "name": "python3"
  },
  "language_info": {
   "codemirror_mode": {
    "name": "ipython",
    "version": 3
   },
   "file_extension": ".py",
   "mimetype": "text/x-python",
   "name": "python",
   "nbconvert_exporter": "python",
   "pygments_lexer": "ipython3",
   "version": "3.8.0"
  }
 },
 "nbformat": 4,
 "nbformat_minor": 4
}

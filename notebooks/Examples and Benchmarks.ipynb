{
 "cells": [
  {
   "cell_type": "code",
   "execution_count": 5,
   "metadata": {},
   "outputs": [
    {
     "name": "stdout",
     "output_type": "stream",
     "text": [
      "The autoreload extension is already loaded. To reload it, use:\n",
      "  %reload_ext autoreload\n"
     ]
    }
   ],
   "source": [
    "%load_ext autoreload\n",
    "%autoreload 2"
   ]
  },
  {
   "cell_type": "code",
   "execution_count": 6,
   "metadata": {},
   "outputs": [],
   "source": [
    "import os\n",
    "import sys\n",
    "module_path = os.path.abspath(os.path.join('..'))\n",
    "if module_path not in sys.path:\n",
    "    sys.path.append(module_path)"
   ]
  },
  {
   "cell_type": "code",
   "execution_count": 7,
   "metadata": {},
   "outputs": [
    {
     "name": "stdout",
     "output_type": "stream",
     "text": [
      "env: TFHUB_CACHE_DIR=../tfhub\n"
     ]
    }
   ],
   "source": [
    "%env TFHUB_CACHE_DIR=../tfhub"
   ]
  },
  {
   "cell_type": "code",
   "execution_count": 20,
   "metadata": {},
   "outputs": [],
   "source": [
    "import re\n",
    "import numpy as np\n",
    "import pandas as pd\n",
    "\n",
    "from tqdm import tqdm\n",
    "from IPython.core.display import display, HTML\n",
    "\n",
    "from encoders.conveRT import conv_vec\n",
    "from src.attention_search import attention_search"
   ]
  },
  {
   "cell_type": "markdown",
   "metadata": {},
   "source": [
    "# Examples"
   ]
  },
  {
   "cell_type": "markdown",
   "metadata": {},
   "source": [
    "Create a small search index locally"
   ]
  },
  {
   "cell_type": "code",
   "execution_count": 27,
   "metadata": {},
   "outputs": [
    {
     "data": {
      "text/html": [
       "<div>\n",
       "<style scoped>\n",
       "    .dataframe tbody tr th:only-of-type {\n",
       "        vertical-align: middle;\n",
       "    }\n",
       "\n",
       "    .dataframe tbody tr th {\n",
       "        vertical-align: top;\n",
       "    }\n",
       "\n",
       "    .dataframe thead th {\n",
       "        text-align: right;\n",
       "    }\n",
       "</style>\n",
       "<table border=\"1\" class=\"dataframe\">\n",
       "  <thead>\n",
       "    <tr style=\"text-align: right;\">\n",
       "      <th></th>\n",
       "      <th>0</th>\n",
       "      <th>1</th>\n",
       "      <th>2</th>\n",
       "      <th>3</th>\n",
       "      <th>4</th>\n",
       "      <th>5</th>\n",
       "      <th>6</th>\n",
       "      <th>7</th>\n",
       "      <th>8</th>\n",
       "      <th>9</th>\n",
       "    </tr>\n",
       "  </thead>\n",
       "  <tbody>\n",
       "    <tr>\n",
       "      <th>0</th>\n",
       "      <td>22</td>\n",
       "      <td>Keith Booth</td>\n",
       "      <td>SF</td>\n",
       "      <td>6-6</td>\n",
       "      <td>226</td>\n",
       "      <td>October 9</td>\n",
       "      <td>1974</td>\n",
       "      <td>us</td>\n",
       "      <td>R</td>\n",
       "      <td>Maryland</td>\n",
       "    </tr>\n",
       "    <tr>\n",
       "      <th>1</th>\n",
       "      <td>1</td>\n",
       "      <td>Randy Brown</td>\n",
       "      <td>PG</td>\n",
       "      <td>6-2</td>\n",
       "      <td>190</td>\n",
       "      <td>May 22</td>\n",
       "      <td>1968</td>\n",
       "      <td>us</td>\n",
       "      <td>6</td>\n",
       "      <td>Houston, New Mexico State</td>\n",
       "    </tr>\n",
       "    <tr>\n",
       "      <th>2</th>\n",
       "      <td>30</td>\n",
       "      <td>Jud Buechler</td>\n",
       "      <td>SF</td>\n",
       "      <td>6-6</td>\n",
       "      <td>220</td>\n",
       "      <td>June 19</td>\n",
       "      <td>1968</td>\n",
       "      <td>us</td>\n",
       "      <td>7</td>\n",
       "      <td>Arizona</td>\n",
       "    </tr>\n",
       "    <tr>\n",
       "      <th>3</th>\n",
       "      <td>24</td>\n",
       "      <td>Scott Burrell</td>\n",
       "      <td>SF</td>\n",
       "      <td>6-7</td>\n",
       "      <td>218</td>\n",
       "      <td>January 12</td>\n",
       "      <td>1971</td>\n",
       "      <td>us</td>\n",
       "      <td>4</td>\n",
       "      <td>UConn</td>\n",
       "    </tr>\n",
       "    <tr>\n",
       "      <th>4</th>\n",
       "      <td>35</td>\n",
       "      <td>Jason Caffey</td>\n",
       "      <td>PF</td>\n",
       "      <td>6-8</td>\n",
       "      <td>255</td>\n",
       "      <td>June 12</td>\n",
       "      <td>1973</td>\n",
       "      <td>us</td>\n",
       "      <td>2</td>\n",
       "      <td>Alabama</td>\n",
       "    </tr>\n",
       "    <tr>\n",
       "      <th>5</th>\n",
       "      <td>9</td>\n",
       "      <td>Ron Harper</td>\n",
       "      <td>PG</td>\n",
       "      <td>6-6</td>\n",
       "      <td>185</td>\n",
       "      <td>January 20</td>\n",
       "      <td>1964</td>\n",
       "      <td>us</td>\n",
       "      <td>11</td>\n",
       "      <td>Miami University</td>\n",
       "    </tr>\n",
       "    <tr>\n",
       "      <th>6</th>\n",
       "      <td>23</td>\n",
       "      <td>Michael Jordan</td>\n",
       "      <td>SG</td>\n",
       "      <td>6-6</td>\n",
       "      <td>195</td>\n",
       "      <td>February 17</td>\n",
       "      <td>1963</td>\n",
       "      <td>us</td>\n",
       "      <td>12</td>\n",
       "      <td>UNC</td>\n",
       "    </tr>\n",
       "    <tr>\n",
       "      <th>7</th>\n",
       "      <td>25</td>\n",
       "      <td>Steve Kerr</td>\n",
       "      <td>PG</td>\n",
       "      <td>6-3</td>\n",
       "      <td>175</td>\n",
       "      <td>September 27</td>\n",
       "      <td>1965</td>\n",
       "      <td>lb</td>\n",
       "      <td>9</td>\n",
       "      <td>Arizona</td>\n",
       "    </tr>\n",
       "    <tr>\n",
       "      <th>8</th>\n",
       "      <td>53</td>\n",
       "      <td>Joe Kleine</td>\n",
       "      <td>C</td>\n",
       "      <td>6-11</td>\n",
       "      <td>255</td>\n",
       "      <td>January 4</td>\n",
       "      <td>1962</td>\n",
       "      <td>us</td>\n",
       "      <td>12</td>\n",
       "      <td>Notre Dame, Arkansas</td>\n",
       "    </tr>\n",
       "    <tr>\n",
       "      <th>9</th>\n",
       "      <td>7</td>\n",
       "      <td>Toni Kukoč</td>\n",
       "      <td>SF</td>\n",
       "      <td>6-10</td>\n",
       "      <td>192</td>\n",
       "      <td>September 18</td>\n",
       "      <td>1968</td>\n",
       "      <td>hr</td>\n",
       "      <td>4,</td>\n",
       "      <td>None</td>\n",
       "    </tr>\n",
       "    <tr>\n",
       "      <th>10</th>\n",
       "      <td>5</td>\n",
       "      <td>Rusty LaRue</td>\n",
       "      <td>PG</td>\n",
       "      <td>6-2</td>\n",
       "      <td>210</td>\n",
       "      <td>December 10</td>\n",
       "      <td>1973</td>\n",
       "      <td>us</td>\n",
       "      <td>R</td>\n",
       "      <td>Wake Forest</td>\n",
       "    </tr>\n",
       "    <tr>\n",
       "      <th>11</th>\n",
       "      <td>13</td>\n",
       "      <td>Luc Longley</td>\n",
       "      <td>C</td>\n",
       "      <td>7-2</td>\n",
       "      <td>265</td>\n",
       "      <td>January 19</td>\n",
       "      <td>1969</td>\n",
       "      <td>au</td>\n",
       "      <td>6</td>\n",
       "      <td>New Mexico</td>\n",
       "    </tr>\n",
       "    <tr>\n",
       "      <th>12</th>\n",
       "      <td>33</td>\n",
       "      <td>Scottie Pippen</td>\n",
       "      <td>SF</td>\n",
       "      <td>6-8</td>\n",
       "      <td>210</td>\n",
       "      <td>September 25</td>\n",
       "      <td>1965</td>\n",
       "      <td>us</td>\n",
       "      <td>10</td>\n",
       "      <td>University of Central Arkansas</td>\n",
       "    </tr>\n",
       "    <tr>\n",
       "      <th>13</th>\n",
       "      <td>91</td>\n",
       "      <td>Dennis Rodman</td>\n",
       "      <td>PF</td>\n",
       "      <td>6-7</td>\n",
       "      <td>210</td>\n",
       "      <td>May 13</td>\n",
       "      <td>1961</td>\n",
       "      <td>us</td>\n",
       "      <td>11</td>\n",
       "      <td>Southeastern Oklahoma State University</td>\n",
       "    </tr>\n",
       "    <tr>\n",
       "      <th>14</th>\n",
       "      <td>8</td>\n",
       "      <td>Dickey Simpkins</td>\n",
       "      <td>PF</td>\n",
       "      <td>6-9</td>\n",
       "      <td>248</td>\n",
       "      <td>April 6</td>\n",
       "      <td>1972</td>\n",
       "      <td>us</td>\n",
       "      <td>3</td>\n",
       "      <td>Providence</td>\n",
       "    </tr>\n",
       "    <tr>\n",
       "      <th>15</th>\n",
       "      <td>42</td>\n",
       "      <td>David Vaughn</td>\n",
       "      <td>PF</td>\n",
       "      <td>6-9</td>\n",
       "      <td>240</td>\n",
       "      <td>March 23</td>\n",
       "      <td>1973</td>\n",
       "      <td>us</td>\n",
       "      <td>2</td>\n",
       "      <td>Memphis</td>\n",
       "    </tr>\n",
       "    <tr>\n",
       "      <th>16</th>\n",
       "      <td>34</td>\n",
       "      <td>Bill Wennington</td>\n",
       "      <td>C</td>\n",
       "      <td>7-0</td>\n",
       "      <td>245</td>\n",
       "      <td>April 26</td>\n",
       "      <td>1963</td>\n",
       "      <td>ca</td>\n",
       "      <td>10</td>\n",
       "      <td>St. John's</td>\n",
       "    </tr>\n",
       "  </tbody>\n",
       "</table>\n",
       "</div>"
      ],
      "text/plain": [
       "     0                1   2     3    4             5     6   7   8  \\\n",
       "0   22      Keith Booth  SF   6-6  226     October 9  1974  us   R   \n",
       "1    1      Randy Brown  PG   6-2  190        May 22  1968  us   6   \n",
       "2   30     Jud Buechler  SF   6-6  220       June 19  1968  us   7   \n",
       "3   24    Scott Burrell  SF   6-7  218    January 12  1971  us   4   \n",
       "4   35     Jason Caffey  PF   6-8  255       June 12  1973  us   2   \n",
       "5    9       Ron Harper  PG   6-6  185    January 20  1964  us  11   \n",
       "6   23   Michael Jordan  SG   6-6  195   February 17  1963  us  12   \n",
       "7   25       Steve Kerr  PG   6-3  175  September 27  1965  lb   9   \n",
       "8   53       Joe Kleine   C  6-11  255     January 4  1962  us  12   \n",
       "9    7       Toni Kukoč  SF  6-10  192  September 18  1968  hr  4,   \n",
       "10   5      Rusty LaRue  PG   6-2  210   December 10  1973  us   R   \n",
       "11  13      Luc Longley   C   7-2  265    January 19  1969  au   6   \n",
       "12  33   Scottie Pippen  SF   6-8  210  September 25  1965  us  10   \n",
       "13  91    Dennis Rodman  PF   6-7  210        May 13  1961  us  11   \n",
       "14   8  Dickey Simpkins  PF   6-9  248       April 6  1972  us   3   \n",
       "15  42     David Vaughn  PF   6-9  240      March 23  1973  us   2   \n",
       "16  34  Bill Wennington   C   7-0  245      April 26  1963  ca  10   \n",
       "\n",
       "                                         9  \n",
       "0                                 Maryland  \n",
       "1                Houston, New Mexico State  \n",
       "2                                  Arizona  \n",
       "3                                    UConn  \n",
       "4                                  Alabama  \n",
       "5                         Miami University  \n",
       "6                                      UNC  \n",
       "7                                  Arizona  \n",
       "8                     Notre Dame, Arkansas  \n",
       "9                                     None  \n",
       "10                             Wake Forest  \n",
       "11                              New Mexico  \n",
       "12          University of Central Arkansas  \n",
       "13  Southeastern Oklahoma State University  \n",
       "14                              Providence  \n",
       "15                                 Memphis  \n",
       "16                              St. John's  "
      ]
     },
     "execution_count": 27,
     "metadata": {},
     "output_type": "execute_result"
    }
   ],
   "source": [
    "roster98 = [\n",
    "    [\"22\",\"Keith Booth\",\"SF\",\"6-6\",\"226\",\"October 9\",\"1974\",\"us\",\"R\",\"Maryland\"],\n",
    "    [\"1\",\"Randy Brown\",\"PG\",\"6-2\",\"190\",\"May 22\",\"1968\",\"us\",\"6\",\"Houston, New Mexico State\"],\n",
    "    [\"30\",\"Jud Buechler\",\"SF\",\"6-6\",\"220\",\"June 19\",\"1968\",\"us\",\"7\",\"Arizona\"],\n",
    "    [\"24\",\"Scott Burrell\",\"SF\",\"6-7\",\"218\",\"January 12\",\"1971\",\"us\",\"4\",\"UConn\"],\n",
    "    [\"35\",\"Jason Caffey\",\"PF\",\"6-8\",\"255\",\"June 12\",\"1973\",\"us\",\"2\",\"Alabama\"],\n",
    "    [\"9\",\"Ron Harper\",\"PG\",\"6-6\",\"185\",\"January 20\",\"1964\",\"us\",\"11\",\"Miami University\"],\n",
    "    [\"23\",\"Michael Jordan\",\"SG\",\"6-6\",\"195\",\"February 17\",\"1963\",\"us\",\"12\",\"UNC\"],\n",
    "    [\"25\",\"Steve Kerr\",\"PG\",\"6-3\",\"175\",\"September 27\",\"1965\",\"lb\",\"9\",\"Arizona\"],\n",
    "    [\"53\",\"Joe Kleine\",\"C\",\"6-11\",\"255\",\"January 4\",\"1962\",\"us\",\"12\",\"Notre Dame, Arkansas\"],\n",
    "    [\"7\",\"Toni Kukoč\",\"SF\",\"6-10\",\"192\",\"September 18\",\"1968\",\"hr\",\"4,\"],\n",
    "    [\"5\",\"Rusty LaRue\",\"PG\",\"6-2\",\"210\",\"December 10\",\"1973\",\"us\",\"R\",\"Wake Forest\"],\n",
    "    [\"13\",\"Luc Longley\",\"C\",\"7-2\",\"265\",\"January 19\",\"1969\",\"au\",\"6\",\"New Mexico\"],\n",
    "    [\"33\",\"Scottie Pippen\",\"SF\",\"6-8\",\"210\",\"September 25\",\"1965\",\"us\",\"10\",\"University of Central Arkansas\"],\n",
    "    [\"91\",\"Dennis Rodman\",\"PF\",\"6-7\",\"210\",\"May 13\",\"1961\",\"us\",\"11\",\"Southeastern Oklahoma State University\"],\n",
    "    [\"8\",\"Dickey Simpkins\",\"PF\",\"6-9\",\"248\",\"April 6\",\"1972\",\"us\",\"3\",\"Providence\"],\n",
    "    [\"42\",\"David Vaughn\",\"PF\",\"6-9\",\"240\",\"March 23\",\"1973\", \"us\",\"2\",\"Memphis\"],\n",
    "    [\"34\",\"Bill Wennington\",\"C\",\"7-0\",\"245\",\"April 26\",\"1963\",\"ca\",\"10\",\"St. John's\"]\n",
    "]\n",
    "\n",
    "bulls_df = pd.DataFrame(roster98)\n",
    "bulls_df"
   ]
  },
  {
   "cell_type": "markdown",
   "metadata": {},
   "source": [
    "BYOE (bring your own embeddings). For this demo, we'll apply [ConveRT](https://github.com/PolyAI-LDN/polyai-models#convert) from PolyAI to create a sequence of embeddings from our search index"
   ]
  },
  {
   "cell_type": "code",
   "execution_count": 60,
   "metadata": {},
   "outputs": [
    {
     "name": "stderr",
     "output_type": "stream",
     "text": [
      "100%|██████████| 17/17 [00:00<00:00, 18.96it/s]\n"
     ]
    }
   ],
   "source": [
    "roster_list = bulls_df.to_numpy().tolist()\n",
    "roster_enc = np.concatenate([conv_vec(f\"{player}\") for player in tqdm(roster_list)])"
   ]
  },
  {
   "cell_type": "markdown",
   "metadata": {},
   "source": [
    "Next, we can encode a query to perform a simple search:"
   ]
  },
  {
   "cell_type": "code",
   "execution_count": 220,
   "metadata": {
    "scrolled": true
   },
   "outputs": [
    {
     "name": "stdout",
     "output_type": "stream",
     "text": [
      "Searched 17 records in 0.0002 seconds\n"
     ]
    },
    {
     "data": {
      "text/html": [
       "<div>\n",
       "<style scoped>\n",
       "    .dataframe tbody tr th:only-of-type {\n",
       "        vertical-align: middle;\n",
       "    }\n",
       "\n",
       "    .dataframe tbody tr th {\n",
       "        vertical-align: top;\n",
       "    }\n",
       "\n",
       "    .dataframe thead th {\n",
       "        text-align: right;\n",
       "    }\n",
       "</style>\n",
       "<table border=\"1\" class=\"dataframe\">\n",
       "  <thead>\n",
       "    <tr style=\"text-align: right;\">\n",
       "      <th></th>\n",
       "      <th>0</th>\n",
       "      <th>1</th>\n",
       "      <th>2</th>\n",
       "      <th>3</th>\n",
       "      <th>4</th>\n",
       "      <th>5</th>\n",
       "      <th>6</th>\n",
       "      <th>7</th>\n",
       "      <th>8</th>\n",
       "      <th>9</th>\n",
       "    </tr>\n",
       "  </thead>\n",
       "  <tbody>\n",
       "    <tr>\n",
       "      <th>0</th>\n",
       "      <td>1</td>\n",
       "      <td>Randy Brown</td>\n",
       "      <td>PG</td>\n",
       "      <td>6-2</td>\n",
       "      <td>190</td>\n",
       "      <td>May 22</td>\n",
       "      <td>1968</td>\n",
       "      <td>us</td>\n",
       "      <td>6</td>\n",
       "      <td>Houston, New Mexico State</td>\n",
       "    </tr>\n",
       "    <tr>\n",
       "      <th>1</th>\n",
       "      <td>13</td>\n",
       "      <td>Luc Longley</td>\n",
       "      <td>C</td>\n",
       "      <td>7-2</td>\n",
       "      <td>265</td>\n",
       "      <td>January 19</td>\n",
       "      <td>1969</td>\n",
       "      <td>au</td>\n",
       "      <td>6</td>\n",
       "      <td>New Mexico</td>\n",
       "    </tr>\n",
       "    <tr>\n",
       "      <th>2</th>\n",
       "      <td>91</td>\n",
       "      <td>Dennis Rodman</td>\n",
       "      <td>PF</td>\n",
       "      <td>6-7</td>\n",
       "      <td>210</td>\n",
       "      <td>May 13</td>\n",
       "      <td>1961</td>\n",
       "      <td>us</td>\n",
       "      <td>11</td>\n",
       "      <td>Southeastern Oklahoma State University</td>\n",
       "    </tr>\n",
       "  </tbody>\n",
       "</table>\n",
       "</div>"
      ],
      "text/plain": [
       "    0              1   2    3    4           5     6   7   8  \\\n",
       "0   1    Randy Brown  PG  6-2  190      May 22  1968  us   6   \n",
       "1  13    Luc Longley   C  7-2  265  January 19  1969  au   6   \n",
       "2  91  Dennis Rodman  PF  6-7  210      May 13  1961  us  11   \n",
       "\n",
       "                                        9  \n",
       "0               Houston, New Mexico State  \n",
       "1                              New Mexico  \n",
       "2  Southeastern Oklahoma State University  "
      ]
     },
     "execution_count": 220,
     "metadata": {},
     "output_type": "execute_result"
    }
   ],
   "source": [
    "query = conv_vec(\"mexico us\")\n",
    "search_index = roster_enc\n",
    "search_values = roster98\n",
    "\n",
    "results = attention_search(query, search_index, search_values, verbose=True)\n",
    "pd.DataFrame(results)"
   ]
  },
  {
   "cell_type": "markdown",
   "metadata": {},
   "source": [
    "Let's try searching a larger dataset like [Amazon's Fine Food Reviews](https://www.kaggle.com/snap/amazon-fine-food-reviews?select=Reviews.csv)"
   ]
  },
  {
   "cell_type": "code",
   "execution_count": 67,
   "metadata": {},
   "outputs": [
    {
     "data": {
      "text/plain": [
       "(568454,)"
      ]
     },
     "execution_count": 67,
     "metadata": {},
     "output_type": "execute_result"
    }
   ],
   "source": [
    "amazon_food_reviews = pd.read_csv(\"data/Reviews.csv\")\n",
    "text_only = amazon_food_reviews[\"Text\"]\n",
    "text_only.shape"
   ]
  },
  {
   "cell_type": "markdown",
   "metadata": {},
   "source": [
    "Just like on the baking shows, I've already encoded the first 100,000 records "
   ]
  },
  {
   "cell_type": "code",
   "execution_count": 10,
   "metadata": {},
   "outputs": [],
   "source": [
    "# uncomment this block re-encode (this can be instensive on a CPU)\n",
    "# res = []\n",
    "# for item in tqdm(text_only[:100000]):\n",
    "#     res.append(conv_vec(item))\n",
    "# amazon_fine_food_vec = np.concatenate(res)\n",
    "# np.save(\"amazon_fine_food\", amazon_fine_food_vec)"
   ]
  },
  {
   "cell_type": "code",
   "execution_count": 65,
   "metadata": {},
   "outputs": [
    {
     "data": {
      "text/plain": [
       "(100000, 1024)"
      ]
     },
     "execution_count": 65,
     "metadata": {},
     "output_type": "execute_result"
    }
   ],
   "source": [
    "amazon_fine_food_vec = np.load(\"data/amazon_fine_food.npy\")\n",
    "amazon_fine_food_vec.shape"
   ]
  },
  {
   "cell_type": "code",
   "execution_count": 312,
   "metadata": {
    "scrolled": false
   },
   "outputs": [
    {
     "name": "stdout",
     "output_type": "stream",
     "text": [
      "Searched 100000 records in 0.0264 seconds\n"
     ]
    }
   ],
   "source": [
    "results = attention_search(\n",
    "    conv_vec(\"ramen noodles\"), \n",
    "    amazon_fine_food_vec, \n",
    "    text_only.to_list()[:100000], # encoded only the first 100,000\n",
    "    n_results=5,\n",
    "    verbose=True\n",
    ")"
   ]
  },
  {
   "cell_type": "code",
   "execution_count": 313,
   "metadata": {},
   "outputs": [
    {
     "data": {
      "text/html": [
       "<hr /> Review:<br />I've eaten ramen for a long time (30+ years) and have eaten numerous varieties and the Shin ramen is probably my #1 tasting. The reasons are as follows:<br />* Best flavor broth - it's spicy (but adjustable), leaves a good aftertaste (yes, even when you burp), tint of mushroom flavor co..."
      ],
      "text/plain": [
       "<IPython.core.display.HTML object>"
      ]
     },
     "metadata": {},
     "output_type": "display_data"
    },
    {
     "data": {
      "text/html": [
       "<hr /> You can find these in your local grocery stores for a price of about less than a quarter each, so this is a bit of a rip-off.<br /><br />I saw the other review with the person using a microwave(?). I don't use a microwave, however I suspect he may be talking about about a different instant ramen.<br..."
      ],
      "text/plain": [
       "<IPython.core.display.HTML object>"
      ]
     },
     "metadata": {},
     "output_type": "display_data"
    },
    {
     "data": {
      "text/html": [
       "<hr /> I've tried to write this review three times now, and every time I get a power blip or something happens to the browser and I lose it.  One more time.<br /><br />I made this carefully, and it is not tasty.  It has a big packet of spices that has a lot of whey, onion, and cheese and spices like black ..."
      ],
      "text/plain": [
       "<IPython.core.display.HTML object>"
      ]
     },
     "metadata": {},
     "output_type": "display_data"
    }
   ],
   "source": [
    "for i, r in enumerate(results):\n",
    "    if not re.findall(r\"\\*{2,}|-{2,}\", r): # ignore messy records  \n",
    "        # r = re.sub(r\"(ramen|noodles)\", r\"<mark><b><u>\\1</u></b></mark>\", r)\n",
    "        display(HTML(f\"<hr /> {r[:300]}...\"))"
   ]
  },
  {
   "cell_type": "markdown",
   "metadata": {},
   "source": [
    "# Benchmarking"
   ]
  },
  {
   "cell_type": "code",
   "execution_count": 77,
   "metadata": {},
   "outputs": [],
   "source": [
    "# TODO: https://github.com/erikbern/ann-benchmarks"
   ]
  },
  {
   "cell_type": "code",
   "execution_count": null,
   "metadata": {},
   "outputs": [],
   "source": []
  }
 ],
 "metadata": {
  "kernelspec": {
   "display_name": "Python 3",
   "language": "python",
   "name": "python3"
  },
  "language_info": {
   "codemirror_mode": {
    "name": "ipython",
    "version": 3
   },
   "file_extension": ".py",
   "mimetype": "text/x-python",
   "name": "python",
   "nbconvert_exporter": "python",
   "pygments_lexer": "ipython3",
   "version": "3.8.0"
  }
 },
 "nbformat": 4,
 "nbformat_minor": 4
}
